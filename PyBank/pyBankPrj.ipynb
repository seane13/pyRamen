{
 "cells": [
  {
   "cell_type": "code",
   "execution_count": 24,
   "id": "0da08337-c2af-4d77-9b78-ff01df1eda20",
   "metadata": {},
   "outputs": [],
   "source": [
    "#import path and csv"
   ]
  },
  {
   "cell_type": "code",
   "execution_count": 1,
   "id": "9efad164-a44d-46a4-aee2-850d46e3f18a",
   "metadata": {},
   "outputs": [],
   "source": [
    "from pathlib import Path\n",
    "import csv"
   ]
  },
  {
   "cell_type": "code",
   "execution_count": 2,
   "id": "435dfeb9-5dd1-4a53-91f7-baf5a69f5cb7",
   "metadata": {},
   "outputs": [],
   "source": [
    "#create path to csv file"
   ]
  },
  {
   "cell_type": "code",
   "execution_count": 16,
   "id": "a9230349-1a7e-4e74-8415-065283166906",
   "metadata": {},
   "outputs": [],
   "source": [
    "filepath = Path(\"../pyBank/Resources/budget_data.csv\")"
   ]
  },
  {
   "cell_type": "code",
   "execution_count": 17,
   "id": "3ad705f4-c2f8-4140-aa88-516b04df2d6e",
   "metadata": {},
   "outputs": [],
   "source": [
    "# open path to file with csv, move header"
   ]
  },
  {
   "cell_type": "code",
   "execution_count": 18,
   "id": "e0fb90f6-e574-4142-bec6-44e3d72ec797",
   "metadata": {},
   "outputs": [],
   "source": [
    "with open(filepath, \"r\") as file:\n",
    "    csvreader = csv.reader(file, delimiter = \",\") \n",
    "    header = next(csvreader)\n",
    "    #create variable for first loop to seperate integers, num of months, list of data\n",
    "    list_of_data = []#list of list\n",
    "    num_of_months = 0\n",
    "    pnl = 0\n",
    "    net_pnl = 0\n",
    "    \n",
    "    for row in (csvreader):\n",
    "        num_of_months += 1\n",
    "        net_pnl += int(row[1])\n",
    "        list_of_data.append(row)\n"
   ]
  },
  {
   "cell_type": "code",
   "execution_count": 6,
   "id": "9f94ddb8-434f-4a68-bc54-a21e9ba5c0fc",
   "metadata": {},
   "outputs": [
    {
     "ename": "NameError",
     "evalue": "name 'list_of_data' is not defined",
     "output_type": "error",
     "traceback": [
      "\u001b[0;31m---------------------------------------------------------------------------\u001b[0m",
      "\u001b[0;31mNameError\u001b[0m                                 Traceback (most recent call last)",
      "\u001b[0;32m/var/folders/dr/m101dzn51zb9tvcs8pnjgk480000gn/T/ipykernel_29772/512100600.py\u001b[0m in \u001b[0;36m<module>\u001b[0;34m\u001b[0m\n\u001b[1;32m      5\u001b[0m \u001b[0mmax_decrease\u001b[0m \u001b[0;34m=\u001b[0m \u001b[0;36m0\u001b[0m\u001b[0;34m\u001b[0m\u001b[0;34m\u001b[0m\u001b[0m\n\u001b[1;32m      6\u001b[0m \u001b[0;34m\u001b[0m\u001b[0m\n\u001b[0;32m----> 7\u001b[0;31m \u001b[0;32mfor\u001b[0m \u001b[0mdata\u001b[0m \u001b[0;32min\u001b[0m \u001b[0mrange\u001b[0m\u001b[0;34m(\u001b[0m\u001b[0mlen\u001b[0m\u001b[0;34m(\u001b[0m\u001b[0mlist_of_data\u001b[0m\u001b[0;34m)\u001b[0m\u001b[0;34m-\u001b[0m\u001b[0;36m1\u001b[0m\u001b[0;34m)\u001b[0m\u001b[0;34m:\u001b[0m\u001b[0;34m\u001b[0m\u001b[0;34m\u001b[0m\u001b[0m\n\u001b[0m\u001b[1;32m      8\u001b[0m     \u001b[0mpnl_difference\u001b[0m \u001b[0;34m=\u001b[0m \u001b[0mint\u001b[0m\u001b[0;34m(\u001b[0m\u001b[0mlist_of_data\u001b[0m\u001b[0;34m[\u001b[0m\u001b[0mdata\u001b[0m\u001b[0;34m+\u001b[0m\u001b[0;36m1\u001b[0m\u001b[0;34m]\u001b[0m\u001b[0;34m[\u001b[0m\u001b[0;36m1\u001b[0m\u001b[0;34m]\u001b[0m\u001b[0;34m)\u001b[0m \u001b[0;34m-\u001b[0m \u001b[0mint\u001b[0m\u001b[0;34m(\u001b[0m\u001b[0mlist_of_data\u001b[0m\u001b[0;34m[\u001b[0m\u001b[0mdata\u001b[0m\u001b[0;34m]\u001b[0m\u001b[0;34m[\u001b[0m\u001b[0;36m1\u001b[0m\u001b[0;34m]\u001b[0m\u001b[0;34m)\u001b[0m\u001b[0;34m\u001b[0m\u001b[0;34m\u001b[0m\u001b[0m\n\u001b[1;32m      9\u001b[0m     \u001b[0mmonths\u001b[0m \u001b[0;34m=\u001b[0m \u001b[0mlist_of_data\u001b[0m\u001b[0;34m[\u001b[0m\u001b[0mdata\u001b[0m\u001b[0;34m]\u001b[0m\u001b[0;34m[\u001b[0m\u001b[0;36m0\u001b[0m\u001b[0;34m]\u001b[0m \u001b[0;34m+\u001b[0m \u001b[0;34m\" \"\u001b[0m \u001b[0;34m+\u001b[0m \u001b[0mlist_of_data\u001b[0m\u001b[0;34m[\u001b[0m\u001b[0mdata\u001b[0m \u001b[0;34m+\u001b[0m \u001b[0;36m1\u001b[0m\u001b[0;34m]\u001b[0m\u001b[0;34m[\u001b[0m\u001b[0;36m0\u001b[0m\u001b[0;34m]\u001b[0m\u001b[0;34m\u001b[0m\u001b[0;34m\u001b[0m\u001b[0m\n",
      "\u001b[0;31mNameError\u001b[0m: name 'list_of_data' is not defined"
     ]
    }
   ],
   "source": [
    "months = ''\n",
    "pnl_difference = 0\n",
    "sum_difference =0\n",
    "max_increase = 0\n",
    "max_decrease = 0\n",
    "\n",
    "for data in range(len(list_of_data)-1):\n",
    "    pnl_difference = int(list_of_data[data+1][1]) - int(list_of_data[data][1])\n",
    "    months = list_of_data[data][0] + \" \" + list_of_data[data + 1][0]\n",
    "    sum_difference += pnl_difference\n",
    "    if pnl_difference > max_increase:\n",
    "        max_increase = pnl_difference\n",
    "    elif pnl_difference < max_decrease:\n",
    "        max_decrease = pnl_difference\n",
    "    \n",
    "print(\"Financial Analysis\")\n",
    "print(\"-----------------------------------------\")\n",
    "print(f\"Total Months: {num_of_months}\")\n",
    "print(f\"Total Profits: {net_pnl}\")\n",
    "print(f\"Average Change {round(sum_difference/ num_of_months, 2)}\")\n",
    "print(f\"The greatest increase in profit: {max_increase}\")   \n",
    "print(f\"The greatest decrease in profit: {max_decrease}\")  "
   ]
  },
  {
   "cell_type": "code",
   "execution_count": 93,
   "id": "12c4eecf-03b4-4109-8c1f-032aefdfa694",
   "metadata": {},
   "outputs": [],
   "source": [
    "# Set the output file path\n",
    "output_path = Path('output.text')\n",
    "\n",
    "\n",
    "with open(output_path, 'w') as f:\n",
    "    f.write(\"Financial Analysis \\n\")\n",
    "    f.write(\"----------------------------------------- \\n\")\n",
    "    f.write(f\"Total Months: {num_of_months} \\n\")\n",
    "    f.write(f\"Total Profits: {net_pnl} \\n\")\n",
    "    f.write(f\"Average Change: {round(sum_difference/ num_of_months, 2)} \\n\")\n",
    "    f.write(f\"The greatest increase in profit: {max_increase} \\n\")\n",
    "    f.write(f\"The greatest decrease in profit: {max_decrease} \\n\")\n",
    "    "
   ]
  },
  {
   "cell_type": "code",
   "execution_count": null,
   "id": "7291d844-b242-437d-94e7-035d97758af4",
   "metadata": {},
   "outputs": [],
   "source": []
  }
 ],
 "metadata": {
  "kernelspec": {
   "display_name": "Python 3 (ipykernel)",
   "language": "python",
   "name": "python3"
  },
  "language_info": {
   "codemirror_mode": {
    "name": "ipython",
    "version": 3
   },
   "file_extension": ".py",
   "mimetype": "text/x-python",
   "name": "python",
   "nbconvert_exporter": "python",
   "pygments_lexer": "ipython3",
   "version": "3.7.11"
  }
 },
 "nbformat": 4,
 "nbformat_minor": 5
}
