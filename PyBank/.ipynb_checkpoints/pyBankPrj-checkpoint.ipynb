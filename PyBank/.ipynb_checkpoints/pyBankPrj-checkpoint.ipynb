{
 "cells": [
  {
   "cell_type": "code",
   "execution_count": 24,
   "id": "0da08337-c2af-4d77-9b78-ff01df1eda20",
   "metadata": {},
   "outputs": [],
   "source": [
    "#import path and csv"
   ]
  },
  {
   "cell_type": "code",
   "execution_count": 74,
   "id": "9efad164-a44d-46a4-aee2-850d46e3f18a",
   "metadata": {},
   "outputs": [],
   "source": [
    "from pathlib import Path\n",
    "import csv"
   ]
  },
  {
   "cell_type": "code",
   "execution_count": 75,
   "id": "435dfeb9-5dd1-4a53-91f7-baf5a69f5cb7",
   "metadata": {},
   "outputs": [],
   "source": [
    "#create path to csv file"
   ]
  },
  {
   "cell_type": "code",
   "execution_count": 76,
   "id": "a9230349-1a7e-4e74-8415-065283166906",
   "metadata": {},
   "outputs": [],
   "source": [
    "filepath = Path(\"budget_data.csv\")"
   ]
  },
  {
   "cell_type": "code",
   "execution_count": 77,
   "id": "3ad705f4-c2f8-4140-aa88-516b04df2d6e",
   "metadata": {},
   "outputs": [],
   "source": [
    "# open path to file with csv, move header"
   ]
  },
  {
   "cell_type": "code",
   "execution_count": 85,
   "id": "e0fb90f6-e574-4142-bec6-44e3d72ec797",
   "metadata": {},
   "outputs": [],
   "source": [
    "with open(filepath, \"r\") as file:\n",
    "    csvreader = csv.reader(file, delimiter = \",\") \n",
    "    header = next(csvreader)\n",
    "    #create variable for first loop to seperate integers, num of months, list of data\n",
    "    list_of_data = []#list of list\n",
    "    num_of_months = 0\n",
    "    \n",
    "    \n",
    "    for row in (csvreader):\n",
    "        num_of_months += 1\n",
    "        \n",
    "        list_of_data.append(row)\n"
   ]
  },
  {
   "cell_type": "code",
   "execution_count": 86,
   "id": "70e61be1-1a3c-4c51-b820-73565634ea02",
   "metadata": {},
   "outputs": [],
   "source": [
    "#create vars for total amounts, change in amounts subsequently"
   ]
  },
  {
   "cell_type": "code",
   "execution_count": 94,
   "id": "da1fb5ee-9e17-44e1-a3ea-7bff86ca1fbe",
   "metadata": {},
   "outputs": [],
   "source": [
    "pnl = 0\n",
    "net_pnl = 0"
   ]
  },
  {
   "cell_type": "code",
   "execution_count": 95,
   "id": "ef299f3a-e905-4a05-9f35-d58e25a424ba",
   "metadata": {},
   "outputs": [],
   "source": [
    "#loop for data"
   ]
  },
  {
   "cell_type": "code",
   "execution_count": 89,
   "id": "9f94ddb8-434f-4a68-bc54-a21e9ba5c0fc",
   "metadata": {},
   "outputs": [
    {
     "name": "stdout",
     "output_type": "stream",
     "text": [
      "38382578\n"
     ]
    }
   ],
   "source": [
    "for data in range(len(list_of_data)):\n",
    "#    print(int(list_of_data[data][1]))\n",
    "    pnl = int(list_of_data[data][1])\n",
    "    net_pnl += pnl\n",
    "#    prev_pnl = net_pnl - pnl\n",
    "#    change_pnl = net_pnl -  prev_pnl\n",
    "#    total_change -= change_pnl\n",
    "print(net_pnl)    \n",
    " \n",
    "        \n",
    "    \n",
    "        "
   ]
  },
  {
   "cell_type": "code",
   "execution_count": 90,
   "id": "344cf4fe-25b7-465a-b327-f140a3f35a23",
   "metadata": {},
   "outputs": [
    {
     "name": "stdout",
     "output_type": "stream",
     "text": [
      "Financial Analysis\n",
      "-----------------------------------------\n",
      "Total Months: 86\n",
      "Total Profits: 38382578\n"
     ]
    }
   ],
   "source": [
    "print(\"Financial Analysis\")\n",
    "print(\"-----------------------------------------\")\n",
    "print(f\"Total Months: {num_of_months}\")\n",
    "print(f\"Total Profits: {net_pnl}\")\n",
    "#print(f\"Average Change: {round(sum(pnl)/ len(total_pnl),2)}\")\n",
    "#print(f\"The greatest increase in profit: {greatest_increase}\")\n",
    "#print(f\"The greatest decrease in profit: {greatest_decrease}\")\n"
   ]
  },
  {
   "cell_type": "code",
   "execution_count": 93,
   "id": "12c4eecf-03b4-4109-8c1f-032aefdfa694",
   "metadata": {},
   "outputs": [],
   "source": [
    "# Set the output file path\n",
    "output_path = Path('output.text')\n",
    "\n",
    "\n",
    "with open(output_path, 'w') as f:\n",
    "    f.write(\"Financial Analysis \\n\")\n",
    "    f.write(\"----------------------------------------- \\n\")\n",
    "    f.write(f\"Total Months: {num_of_months} \\n\")\n",
    "    f.write(f\"Total Profits: {net_pnl} \\n\")\n",
    "#    f.write(f\"Average Change: {round(sum(total_pnl)/ len(total_pnl),2)} \\n\")\n",
    "#    f.write(f\"The greatest increase in profit: {greatest_increase} \\n\")\n",
    "#    f.write(f\"The greatest decrease in profit: {greatest_decrease} \\n\")\n",
    "    "
   ]
  },
  {
   "cell_type": "code",
   "execution_count": null,
   "id": "7291d844-b242-437d-94e7-035d97758af4",
   "metadata": {},
   "outputs": [],
   "source": []
  }
 ],
 "metadata": {
  "kernelspec": {
   "display_name": "Python 3 (ipykernel)",
   "language": "python",
   "name": "python3"
  },
  "language_info": {
   "codemirror_mode": {
    "name": "ipython",
    "version": 3
   },
   "file_extension": ".py",
   "mimetype": "text/x-python",
   "name": "python",
   "nbconvert_exporter": "python",
   "pygments_lexer": "ipython3",
   "version": "3.7.11"
  }
 },
 "nbformat": 4,
 "nbformat_minor": 5
}
